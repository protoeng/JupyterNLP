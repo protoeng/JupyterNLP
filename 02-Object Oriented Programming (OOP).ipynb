
{
 "cells": [
  {
   "cell_type": "markdown",
   "metadata": {
    "id": "z6Cvqzln1tvr"
   },
   "source": [
    "\n",
    "\n",
    "## update() in dictionaries\n",
    "The method update(dict2) adds dictionary dict2's key-values pairs in to dict. \n",
    "\n",
    "This function does not return anything.\n"
   ]
  },
  {
   "cell_type": "code",
   "execution_count": null,
   "metadata": {
    "id": "bQIp8XmEzdPq"
   },
   "outputs": [],
   "source": [
    "dict1 = {'Name': 'Zara', 'Year': 4}\n",
    "dict2 = {'grade': '67' }"
   ]
  },
  {
   "cell_type": "code",
   "execution_count": null,
   "metadata": {
    "colab": {
     "base_uri": "https://localhost:8080/",
     "height": 52
    },
    "id": "LrR03OZ53Ar-",
    "outputId": "673db138-9644-4c87-aa35-f9b10d66c43d"
   },
   "outputs": [
    {
     "data": {
      "application/vnd.google.colaboratory.intrinsic+json": {
       "type": "string"
      },
      "text/plain": [
       "'D.update([E, ]**F) -> None.  Update D from dict/iterable E and F.\\nIf E is present and has a .keys() method, then does:  for k in E: D[k] = E[k]\\nIf E is present and lacks a .keys() method, then does:  for k, v in E: D[k] = v\\nIn either case, this is followed by: for k in F:  D[k] = F[k]'"
      ]
     },
     "execution_count": 10,
     "metadata": {
      "tags": []
     },
     "output_type": "execute_result"
    }
   ],
   "source": [
    "dict1.update.__doc__"
   ]
  },
  {
   "cell_type": "code",
   "execution_count": null,
   "metadata": {
    "id": "vENU2Ggz1rTt"
   },
   "outputs": [],
   "source": [
    "dict1.update(dict2) "
   ]
  },
  {
   "cell_type": "code",
   "execution_count": null,
   "metadata": {
    "colab": {
     "base_uri": "https://localhost:8080/"
    },
    "id": "YRb-dQbk1sH8",
    "outputId": "13feab5f-430a-4adb-8d2a-e454363bc1c1"
   },
   "outputs": [
    {
     "data": {
      "text/plain": [
       "{'Name': 'Zara', 'Year': 4, 'grade': '67'}"
      ]
     },
     "execution_count": 3,
     "metadata": {
      "tags": []
     },
     "output_type": "execute_result"
    }
   ],
   "source": [
    "dict1"
   ]
  },
  {
   "cell_type": "code",
   "execution_count": null,
   "metadata": {
    "colab": {
     "base_uri": "https://localhost:8080/"
    },
    "id": "dU0L3QFa1sLb",
    "outputId": "937a9ce1-f1eb-4000-9198-dee5a23cd6c4"
   },
   "outputs": [
    {
     "data": {
      "text/plain": [
       "{'grade': '67'}"
      ]
     },
     "execution_count": 4,
     "metadata": {
      "tags": []
     },
     "output_type": "execute_result"
    }
   ],
   "source": [
    "dict2"
   ]
  },
  {
   "cell_type": "code",
   "execution_count": null,
   "metadata": {
    "id": "Q4UL5GqM1sPm"
   },
   "outputs": [],
   "source": [
    "dict1 = {'Name': 'Zara', 'Year': 4}\n",
    "dict2 = {'Name': 'Nageeb' }"
   ]
  },
  {
   "cell_type": "code",
   "execution_count": null,
   "metadata": {
    "id": "RLKlti0J1sSl"
   },
   "outputs": [],
   "source": [
    "dict1.update(dict2)"
   ]
  },
  {
   "cell_type": "code",
   "execution_count": null,
   "metadata": {
    "colab": {
     "base_uri": "https://localhost:8080/"
    },
    "id": "uVZIwWjK3AOo",
    "outputId": "fefafa70-7030-46ae-9056-9619b6e3ea6c"
   },
   "outputs": [
    {
     "data": {
      "text/plain": [
       "{'Name': 'Nageeb', 'Year': 4}"
      ]
     },
     "execution_count": 7,
     "metadata": {
      "tags": []
     },
     "output_type": "execute_result"
    }
   ],
   "source": [
    "dict1"
   ]
  },
  {
   "cell_type": "code",
   "execution_count": null,
   "metadata": {
    "colab": {
     "base_uri": "https://localhost:8080/"
    },
    "id": "QXdohSg33I2Q",
    "outputId": "2bec92d6-261f-48dd-e638-e35e8d66b9c6"
   },
   "outputs": [
    {
     "data": {
      "text/plain": [
       "{'Name': 'Nageeb'}"
      ]
     },
     "execution_count": 11,
     "metadata": {
      "tags": []
     },
     "output_type": "execute_result"
    }
   ],
   "source": [
    "dict2"
   ]
  },
  {
   "cell_type": "markdown",
   "metadata": {
    "id": "vU4d8ISZ35g4"
   },
   "source": [
    "## OOP concepts\n",
    "\n",
    "\n",
    "* Encapsulation\n",
    "* Abstraction\n",
    "* Inheritance\n",
    "* Polymorphism\n"
   ]
  },
  {
   "cell_type": "markdown",
   "metadata": {
    "id": "tyBaxmWd5veD"
   },
   "source": [
    "## Encapsulation\n",
    "### Method abstraction\n",
    "\n",
    "is achieved by separating the use of a method from its implementation. \n",
    "\n",
    "The client can use a method without knowing how it is implemented. The details of the implementation are encapsulated in the\n",
    "method and hidden from the client who invokes the method.\n",
    "\n",
    "This is also known as information\n",
    "hiding or encapsulation.\n",
    "\n",
    "If you decide to change the implementation, the client program will\n",
    "not be affected, provided that you do not change the method signature.\n",
    "\n",
    "The implementation of the method is hidden from the client in a “black box”\n",
    "\n",
    "### Data Field Encapsulation\n",
    "Making data fields private protects data and makes the class easy to maintain.\n",
    "\n",
    "To prevent direct modifications of data fields, you should declare the data fields private,\n",
    "using the private modifier. This is known as data field encapsulation.\n",
    "\n",
    "### Class Abstraction and Encapsulation\n",
    "Class abstraction is the separation of class implementation from the use of a class.\n",
    "\n",
    "The details of implementation are encapsulated and hidden from the user. This is\n",
    "known as class encapsulation.\n",
    " \n",
    "For example, you can create a\n",
    "Circle object and find the area of the circle without knowing how the area is computed. For\n",
    "this reason, a class is also known as an abstract data type (ADT).\n",
    "\n",
    "\n"
   ]
  },
  {
   "cell_type": "markdown",
   "metadata": {
    "id": "gTfa32BD8QU1"
   },
   "source": [
    "## Abstraction\n",
    "Abstraction is the concept of object-oriented programming that \"shows\" only essential attributes and \"hides\" unnecessary information.\n",
    "\n",
    "The main purpose of abstraction is hiding the unnecessary details from the users.\n",
    " \n",
    "Abstraction is selecting data from a larger pool to show only relevant details of the object to the user. It helps in reducing programming complexity and efforts."
   ]
  },
  {
   "cell_type": "markdown",
   "metadata": {
    "id": "Fq96FwsU8_6j"
   },
   "source": [
    "## Abstraction vs Encapsulation\n",
    "See The following Table at (https://eng.libretexts.org/Courses/Delta_College/C_-_Data_Structures/06%3A_Abstraction_Encapsulation/1.01%3A_Difference_between_Abstraction_and_Encapsulation) "
   ]
  },
  {
   "cell_type": "markdown",
   "metadata": {
    "id": "GzWzke7Q_Ju1"
   },
   "source": [
    "### Class Relationships\n",
    "To design classes, you need to explore the relationships among classes. \n",
    "\n",
    "#### The common relationships among classes are **association**, **aggregation**, **composition**, and **inheritance**.\n",
    "\n",
    "#### Association\n",
    "\n",
    " is a general binary relationship that describes an activity between two classes.\n",
    "\n",
    "For example, a student taking a course is an association between the Student class and the\n",
    "Course class,\n",
    "\n",
    " and a faculty member teaching a course is an association between the Faculty\n",