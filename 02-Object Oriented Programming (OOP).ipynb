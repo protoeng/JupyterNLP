
{
 "cells": [
  {
   "cell_type": "markdown",
   "metadata": {
    "id": "z6Cvqzln1tvr"
   },
   "source": [
    "\n",
    "\n",
    "## update() in dictionaries\n",
    "The method update(dict2) adds dictionary dict2's key-values pairs in to dict. \n",
    "\n",
    "This function does not return anything.\n"
   ]
  },
  {
   "cell_type": "code",
   "execution_count": null,
   "metadata": {
    "id": "bQIp8XmEzdPq"
   },
   "outputs": [],
   "source": [
    "dict1 = {'Name': 'Zara', 'Year': 4}\n",
    "dict2 = {'grade': '67' }"
   ]
  },
  {
   "cell_type": "code",
   "execution_count": null,
   "metadata": {
    "colab": {
     "base_uri": "https://localhost:8080/",
     "height": 52
    },
    "id": "LrR03OZ53Ar-",
    "outputId": "673db138-9644-4c87-aa35-f9b10d66c43d"
   },
   "outputs": [
    {
     "data": {
      "application/vnd.google.colaboratory.intrinsic+json": {
       "type": "string"
      },
      "text/plain": [
       "'D.update([E, ]**F) -> None.  Update D from dict/iterable E and F.\\nIf E is present and has a .keys() method, then does:  for k in E: D[k] = E[k]\\nIf E is present and lacks a .keys() method, then does:  for k, v in E: D[k] = v\\nIn either case, this is followed by: for k in F:  D[k] = F[k]'"
      ]
     },
     "execution_count": 10,
     "metadata": {
      "tags": []
     },
     "output_type": "execute_result"
    }
   ],
   "source": [
    "dict1.update.__doc__"
   ]
  },
  {
   "cell_type": "code",
   "execution_count": null,
   "metadata": {
    "id": "vENU2Ggz1rTt"
   },
   "outputs": [],
   "source": [
    "dict1.update(dict2) "
   ]
  },
  {
   "cell_type": "code",
   "execution_count": null,
   "metadata": {
    "colab": {
     "base_uri": "https://localhost:8080/"
    },
    "id": "YRb-dQbk1sH8",
    "outputId": "13feab5f-430a-4adb-8d2a-e454363bc1c1"
   },
   "outputs": [
    {
     "data": {
      "text/plain": [
       "{'Name': 'Zara', 'Year': 4, 'grade': '67'}"
      ]
     },
     "execution_count": 3,
     "metadata": {
      "tags": []
     },
     "output_type": "execute_result"
    }
   ],
   "source": [
    "dict1"
   ]
  },
  {
   "cell_type": "code",
   "execution_count": null,
   "metadata": {
    "colab": {
     "base_uri": "https://localhost:8080/"
    },
    "id": "dU0L3QFa1sLb",
    "outputId": "937a9ce1-f1eb-4000-9198-dee5a23cd6c4"
   },
   "outputs": [
    {
     "data": {
      "text/plain": [
       "{'grade': '67'}"
      ]
     },
     "execution_count": 4,
     "metadata": {
      "tags": []
     },
     "output_type": "execute_result"
    }
   ],
   "source": [
    "dict2"
   ]
  },
  {
   "cell_type": "code",
   "execution_count": null,
   "metadata": {
    "id": "Q4UL5GqM1sPm"
   },
   "outputs": [],
   "source": [
    "dict1 = {'Name': 'Zara', 'Year': 4}\n",
    "dict2 = {'Name': 'Nageeb' }"
   ]
  },
  {
   "cell_type": "code",
   "execution_count": null,
   "metadata": {
    "id": "RLKlti0J1sSl"
   },
   "outputs": [],
   "source": [
    "dict1.update(dict2)"
   ]
  },
  {
   "cell_type": "code",
   "execution_count": null,
   "metadata": {
    "colab": {
     "base_uri": "https://localhost:8080/"
    },
    "id": "uVZIwWjK3AOo",
    "outputId": "fefafa70-7030-46ae-9056-9619b6e3ea6c"
   },
   "outputs": [
    {
     "data": {
      "text/plain": [
       "{'Name': 'Nageeb', 'Year': 4}"
      ]
     },
     "execution_count": 7,
     "metadata": {
      "tags": []
     },
     "output_type": "execute_result"
    }
   ],
   "source": [
    "dict1"
   ]
  },
  {
   "cell_type": "code",
   "execution_count": null,
   "metadata": {
    "colab": {
     "base_uri": "https://localhost:8080/"
    },
    "id": "QXdohSg33I2Q",
    "outputId": "2bec92d6-261f-48dd-e638-e35e8d66b9c6"
   },
   "outputs": [
    {
     "data": {
      "text/plain": [
       "{'Name': 'Nageeb'}"
      ]
     },
     "execution_count": 11,
     "metadata": {
      "tags": []
     },
     "output_type": "execute_result"
    }
   ],
   "source": [
    "dict2"
   ]
  },
  {
   "cell_type": "markdown",
   "metadata": {
    "id": "vU4d8ISZ35g4"
   },
   "source": [
    "## OOP concepts\n",
    "\n",
    "\n",
    "* Encapsulation\n",
    "* Abstraction\n",
    "* Inheritance\n",
    "* Polymorphism\n"
   ]
  },
  {
   "cell_type": "markdown",
   "metadata": {
    "id": "tyBaxmWd5veD"
   },
   "source": [
    "## Encapsulation\n",
    "### Method abstraction\n",
    "\n",
    "is achieved by separating the use of a method from its implementation. \n",
    "\n",
    "The client can use a method without knowing how it is implemented. The details of the implementation are encapsulated in the\n",
    "method and hidden from the client who invokes the method.\n",
    "\n",
    "This is also known as information\n",
    "hiding or encapsulation.\n",
    "\n",
    "If you decide to change the implementation, the client program will\n",
    "not be affected, provided that you do not change the method signature.\n",
    "\n",
    "The implementation of the method is hidden from the client in a “black box”\n",
    "\n",
    "### Data Field Encapsulation\n",
    "Making data fields private protects data and makes the class easy to maintain.\n",
    "\n",
    "To prevent direct modifications of data fields, you should declare the data fields private,\n",
    "using the private modifier. This is known as data field encapsulation.\n",
    "\n",
    "### Class Abstraction and Encapsulation\n",
    "Class abstraction is the separation of class implementation from the use of a class.\n",
    "\n",
    "The details of implementation are encapsulated and hidden from the user. This is\n",
    "known as class encapsulation.\n",
    " \n",
    "For example, you can create a\n",
    "Circle object and find the area of the circle without knowing how the area is computed. For\n",
    "this reason, a class is also known as an abstract data type (ADT).\n",
    "\n",
    "\n"
   ]
  },
  {
   "cell_type": "markdown",
   "metadata": {
    "id": "gTfa32BD8QU1"
   },
   "source": [
    "## Abstraction\n",
    "Abstraction is the concept of object-oriented programming that \"shows\" only essential attributes and \"hides\" unnecessary information.\n",
    "\n",
    "The main purpose of abstraction is hiding the unnecessary details from the users.\n",
    " \n",
    "Abstraction is selecting data from a larger pool to show only relevant details of the object to the user. It helps in reducing programming complexity and efforts."
   ]
  },
  {
   "cell_type": "markdown",
   "metadata": {
    "id": "Fq96FwsU8_6j"
   },
   "source": [
    "## Abstraction vs Encapsulation\n",
    "See The following Table at (https://eng.libretexts.org/Courses/Delta_College/C_-_Data_Structures/06%3A_Abstraction_Encapsulation/1.01%3A_Difference_between_Abstraction_and_Encapsulation) "
   ]
  },
  {
   "cell_type": "markdown",
   "metadata": {
    "id": "GzWzke7Q_Ju1"
   },
   "source": [
    "### Class Relationships\n",
    "To design classes, you need to explore the relationships among classes. \n",
    "\n",
    "#### The common relationships among classes are **association**, **aggregation**, **composition**, and **inheritance**.\n",
    "\n",
    "#### Association\n",
    "\n",
    " is a general binary relationship that describes an activity between two classes.\n",
    "\n",
    "For example, a student taking a course is an association between the Student class and the\n",
    "Course class,\n",
    "\n",
    " and a faculty member teaching a course is an association between the Faculty\n",
    "class and the Course class.\n",
    "\n",
    "#### Multiplicity\n",
    "\n",
    "Each class involved in an association may specify a multiplicity, which is placed at the\n",
    "side of the class to specify how many of the class’s objects are involved in the relationship\n",
    "in UML.\n",
    "\n",
    "See figure 10.4 in Introduction to Java Programming, Comprehensive Version, 10th Edition- Y. Daniel Liang\n",
    "\n",
    "#### you can implement **associations** by using data fields and methods.\n",
    "\n",
    " “a student takes a course” is implemented using the addCourse method in the Student class and the addStudent method in the Course class. \n",
    "\n",
    "“a faculty teaches a course” is implemented using the addCourse method in the Faculty class and the setFaculty method in the Course class.\n",
    "\n",
    "The Student class may use a list to store the courses that the student is taking, \n",
    "\n",
    "the Faculty class may use a list to store the courses that the faculty\n",
    "is teaching,\n",
    "\n",
    "and the Course class may use a list to store students enrolled in the course and a data field to store the instructor who teaches the course.\n",
    "\n",
    "See figure 10.5 in Introduction to Java Programming, Comprehensive Version, 10th Edition- Y. Daniel Liang"
   ]
  },
  {
   "cell_type": "markdown",
   "metadata": {
    "id": "UYElROdRDdpA"
   },
   "source": [
    "### Aggregation\n",
    "Aggregation is a special form of association that represents an ownership relationship between\n",
    "two objects. Aggregation models has-a relationships. The owner object is called an aggregating\n",
    "object, and its class is called an aggregating class. The subject object is called an aggregated\n",
    "object, and its class is called an aggregated class.\n",
    "\n",
    "### Composition\n",
    "An object can be owned by several other aggregating objects. \n",
    "\n",
    "If an object is **exclusively owned by an aggregating object**, the relationship between the object and its aggregating object is referred to as a **composition**. \n",
    "\n",
    "For example, “a student has a name” is a composition relation-\n",
    "ship between the Student class and the Name class, whereas “a student has an address” is an\n",
    "aggregation relationship between the Student class and the Address class, since an address\n",
    "can be shared by several students.\n",
    "\n",
    "See figure 10.6 in Introduction to Java Programming, Comprehensive Version, 10th Edition book by Y. Daniel Liang"
   ]
  },
  {
   "cell_type": "markdown",
   "metadata": {
    "id": "oay7f0C1LvjG"
   },
   "source": [
    "An aggregation relationship is usually represented as a data field in the aggregating class.\n",
    "\n",
    "See figure 10.7 in Introduction to Java Programming, Comprehensive Version, 10th Edition- Y. Daniel Liang\n",
    "\n",
    "Aggregation may exist between objects of the same class\n",
    "\n"
   ]
  },
  {
   "cell_type": "markdown",
   "metadata": {
    "id": "yK3velKiMYdD"
   },
   "source": [
    "See figures 10.8 and 10.9 in Introduction to Java Programming, Comprehensive Version, 10th Edition book by Y. Daniel Liang"
   ]
  },
  {
   "cell_type": "markdown",
   "metadata": {
    "id": "IdF2hdjR-SJE"
   },
   "source": [
    "## Inheritance\n",
    "Object-oriented programming concept that allows you to define new classes from existing classes.\n",
    "\n",
    "### Why using it ?\n",
    "\n",
    "Inheritance is an important and powerful feature for reusing software. Suppose you need\n",
    "to define classes to model circles, rectangles, and triangles. These classes have many common\n",
    "features. What is the best way to design these classes so as to avoid redundancy and make the\n",
    "system easy to comprehend and easy to maintain? The answer is to use inheritance.\n",
    "\n",
    "#### Inheritance enables you to define a general class (i.e., a superclass) and later extend it to more specialized classes (i.e., subclasses).\n",
    "\n"
   ]
  },
  {
   "cell_type": "markdown",
   "metadata": {
    "id": "r13_YhUaMWMJ"
   },
   "source": [
    "See figure 11.1 in Introduction to Java Programming, Comprehensive Version, 10th Edition book by Y. Daniel Liang"
   ]
  },
  {
   "cell_type": "markdown",
   "metadata": {
    "id": "LrD_jmlGNtDV"
   },
   "source": [
    "## Polymorphism\n",
    " means that a variable of a supertype can refer to a subtype object. \n",
    "  \n",
    "An object of a subclass can be used wherever its superclass object is used. This is commonly known as polymorphism (from a Greek word meaning “many forms”).\n",
    "\n",
    "In simple terms, polymorphism\n",
    "means that a variable of a supertype can refer to a subtype object.\n"
   ]
  },
  {
   "cell_type": "code",
   "execution_count": 1,
   "metadata": {
    "id": "Qucb3zAE3teW"
   },
   "outputs": [],
   "source": [
    "# Now go and see \"Overview of OOP Terminology\" in the attached pdf\n",
    "# or visit https://www.tutorialspoint.com/python/python_classes_objects.htm"
   ]
  },
  {
   "cell_type": "markdown",
   "metadata": {},
   "source": [
    "## **Read more!** [Overview of OOP Terminology](https://www.tutorialspoint.com/python/python_classes_objects.htm)"
   ]
  },
  {
   "cell_type": "markdown",
   "metadata": {
    "id": "XhS3jGK1PuLE"
   },
   "source": [
    "# OOP in Python"
   ]
  },
  {
   "cell_type": "code",
   "execution_count": null,
   "metadata": {
    "id": "A48dxhgn34eM"
   },
   "outputs": [],
   "source": [
    "class Employee:\n",
    "  'Common base class for all employees'\n",
    "\n",
    "  # empCount is a class variable whose value is shared among all instances\n",
    "  # of a this class. This can be accessed as Employee.empCount from inside the class or\n",
    "  # outside the class. (static variable)\n",
    "  empCount = 0\n",
    "\n",
    "  # __init__() class constructor or initialization method that \n",
    "  # Python calls when you create a new instance of this class.\n",
    "  def __init__(self, name, salary):\n",
    "    self.name = name\n",
    "    self.salary = salary\n",
    "    Employee.empCount += 1\n",
    "\n",
    "  # other class methods like normal functions with the exception that the first\n",
    "  # argument to each method is self. Python adds the self argument to the list for you; you\n",
    "  # do not need to include it when you call the methods.\n",
    "  def displayCount(self):\n",
    "    print(\"Total Employee %d\" % Employee.empCount)\n",
    "\n",
    "  def displayEmployee(self):\n",
    "    print(\"Name : \", self.name,\", Salary: \", self.salary)"
   ]
  },
  {
   "cell_type": "code",
   "execution_count": null,
   "metadata": {
    "colab": {
     "base_uri": "https://localhost:8080/",
     "height": 35
    },
    "id": "N5-erfpCP0pH",
    "outputId": "ddb44e66-9256-42ad-f305-9a2c5a7a790f"
   },
   "outputs": [
    {
     "data": {
      "application/vnd.google.colaboratory.intrinsic+json": {
       "type": "string"
      },
      "text/plain": [
       "'Common base class for all employees'"
      ]
     },
     "execution_count": 19,
     "metadata": {
      "tags": []
     },
     "output_type": "execute_result"
    }
   ],
   "source": [
    "Employee.__doc__"
   ]
  },
  {
   "cell_type": "code",
   "execution_count": null,
   "metadata": {
    "id": "-CVYRLdtP7V9"
   },
   "outputs": [],
   "source": [
    "# Creating Instance Objects"
   ]
  },
  {
   "cell_type": "code",
   "execution_count": null,
   "metadata": {
    "id": "llb-clURRMnA"
   },
   "outputs": [],
   "source": [
    "emp1 = Employee(\"Zara\", 2000)"
   ]
  },
  {
   "cell_type": "code",
   "execution_count": null,
   "metadata": {
    "id": "2GL807g5RSst"
   },
   "outputs": [],
   "source": [
    "emp2 = Employee(\"Manni\", 5000)"
   ]
  },
  {
   "cell_type": "code",
   "execution_count": null,
   "metadata": {
    "id": "umrsoDNnRVZ-"
   },
   "outputs": [],
   "source": [
    "# Accessing Attributes"
   ]
  },
  {
   "cell_type": "code",
   "execution_count": null,
   "metadata": {
    "colab": {
     "base_uri": "https://localhost:8080/"
    },
    "id": "kV9N3TH9RbR9",
    "outputId": "a9958add-8772-4f56-d7ee-c5c1f9d9e6a9"
   },
   "outputs": [
    {
     "name": "stdout",
     "output_type": "stream",
     "text": [
      "Name :  Zara , Salary:  2000\n",
      "Name :  Manni , Salary:  5000\n",
      "Total Employee 2\n"
     ]
    }
   ],
   "source": [
    "emp1.displayEmployee()\n",
    "emp2.displayEmployee()\n",
    "print(\"Total Employee %d\" % Employee.empCount)"
   ]
  },
  {
   "cell_type": "markdown",
   "metadata": {
    "id": "AkoehSkBRwys"
   },
   "source": [
    "## Instead of using the normal statements to access attributes, you can use the following functions\n",
    "* getattr(obj, name[, default]) − to access the attribute of object.\n",
    "* hasattr(obj,name) − to check if an attribute exists or not.\n",
    "* setattr(obj,name,value) − to set an attribute. If attribute does not exist, then it would be created.\n",
    "* delattr(obj, name) − to delete an attribute."
   ]
  },
  {
   "cell_type": "code",
   "execution_count": null,
   "metadata": {
    "id": "ZmKLq-z9Rqhk"
   },
   "outputs": [],
   "source": [
    "# Returns true if 'salary' attribute exists\n",
    "hasattr(emp1, 'salary') \n",
    "# Returns value of 'salary' attribute\n",
    "getattr(emp1, 'salary')\n",
    "# Set attribute 'salary' at 8000\n",
    "setattr(emp2, 'salary', 8000)\n",
    "# Delete attribute 'salary'\n",
    "delattr(emp2, 'salary')"
   ]
  },
  {
   "cell_type": "code",
   "execution_count": null,
   "metadata": {
    "colab": {
     "base_uri": "https://localhost:8080/"
    },
    "id": "80HT3bQ6RgmT",
    "outputId": "214b4902-dfc6-4d38-ffd3-40f6ec8967a0"
   },
   "outputs": [
    {
     "data": {
      "text/plain": [
       "False"
      ]
     },
     "execution_count": 31,
     "metadata": {
      "tags": []
     },
     "output_type": "execute_result"
    }
   ],
   "source": [
    "hasattr(emp2, 'salary') "
   ]
  },
  {
   "cell_type": "code",
   "execution_count": 3,
   "metadata": {
    "id": "6HiX6-sSSNUW"
   },
   "outputs": [],
   "source": [
    "# go see \"Built-In Class Attributes\" in the attached pdf"
   ]
  },