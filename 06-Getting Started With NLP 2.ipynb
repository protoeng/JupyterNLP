
{
 "cells": [
  {
   "cell_type": "markdown",
   "metadata": {},
   "source": [
    "# Add Virtual Environment to Jupyter Notebook\n",
    "More at (https://janakiev.com/blog/jupyter-virtual-envs/)"
   ]
  },
  {
   "cell_type": "markdown",
   "metadata": {},
   "source": [
    "First, you need to activate your virtual environment. I named it (handsonnlp here)"
   ]
  },
  {
   "cell_type": "code",
   "execution_count": null,
   "metadata": {},
   "outputs": [],
   "source": [
    "!cd /path/to/handsonnlp\n",
    "!source handsonnlp/bin/activate"
   ]
  },
  {
   "cell_type": "markdown",
   "metadata": {},
   "source": [
    "Next, install ipykernel which provides the IPython kernel for Jupyter:"
   ]
  },
  {
   "cell_type": "code",
   "execution_count": null,
   "metadata": {},
   "outputs": [],
   "source": [
    "!pip install -U ipykernel"
   ]
  },
  {
   "cell_type": "markdown",
   "metadata": {},
   "source": [
    "Then, you can add your virtual environment to Jupyter by typing:"
   ]
  },
  {
   "cell_type": "code",
   "execution_count": null,
   "metadata": {},
   "outputs": [],
   "source": [
    "!python3 -m ipykernel install --user --name=handsonnlp"
   ]
  },
  {
   "cell_type": "markdown",
   "metadata": {},
   "source": [
    "# Accessing Text from the Web\n",
    "Four common ways to do that\n",
    "* Using urllib: library for opening URLs (https://docs.python.org/3/library/urllib.request.html)\n",
    "* Using requests:  allows you to send HTTP/1.1 requests extremely easily. There’s no need to manually add query strings to your URLs, or to form-encode your POST data. Keep-alive and HTTP connection pooling are 100% automatic, thanks to urllib3.(https://docs.python-requests.org/en/master/)\n",
    "* Using BeautifulSoup: a Python library for pulling data out of HTML and XML files. (https://www.crummy.com/software/BeautifulSoup/bs4/doc/)\n",
    "* Using scrapy: a free and open-source web-crawling framework written in Python. Originally designed for web scraping, it can also be used to extract data using APIs or as a general-purpose web crawler.(https://scrapy.org/)\n",
    "\n",
    "Using urllib"
   ]
  },
  {
   "cell_type": "code",
   "execution_count": 1,
   "metadata": {},
   "outputs": [
    {
     "name": "stdout",
     "output_type": "stream",
     "text": [
      "<!DOCTYPE html>\r\n",
      "\r\n",
      "\r\n",
      "    <html class=\"html__responsive html__unpinned-leftnav html__fixed-top-bar\">\r\n",
      "\r\n",
      "    <head>\r\n",
      "\r\n",
      "        <title>Stack Overflow - Where Developers Learn, Share, &amp; Build Careers</title>\r\n",
      "        <link rel=\"shortcut icon\" href=\"https://cdn.sstatic.net/Sites/stackoverflow/Img/favicon.ico?v=ec617d715196\">\r\n",
      "        <link rel=\"apple-touch-icon\" href=\"https://cdn.sstatic.net/Sites/stackoverflow/Img/apple-touch-icon.png?v=c78bd457575a\">\r\n",
      "        <link rel=\"image_src\" href=\"https://cdn.sstatic.net/Sites/stackoverflow/Img/apple-touch-icon.png?v=c78bd457575a\"> \r\n",
      "        <link rel=\"search\" type=\"application/opensearchdescription+xml\" title=\"Stack Overflow\" href=\"/opensearch.xml\">\r\n",
      "        <meta name=\"description\" content=\"Stack Overflow is the largest, most trusted online community for developers to learn, share&#x200B; &#x200B;their programming &#x200B;knowledge, and build their careers.\"/>\r\n",
      "        <meta name=\"viewport\" content=\"width=device-width, height=device-height, initial-scale=1.0, minimum-scale=1.0\">\r\n",
      "        <meta property=\"og:type\" content= \"website\" />\r\n",
      "        <meta property=\"og:url\" content=\"https://stackoverflow.com/\"/>\r\n",
      "        <meta property=\"og:site_name\" content=\"Stack Overflow\" />\r\n",
      "        <meta property=\"og:image\" itemprop=\"image primaryImageOfPage\" content=\"https://cdn.sstatic.net/Sites/stackoverflow/Img/apple-touch-icon@2.png?v=73d79a89bded\" />\r\n",
      "        <meta name=\"twitter:card\" content=\"summary\"/>\r\n",
      "        <meta name=\"twitter:domain\" content=\"stackoverflow.com\"/>\r\n",
      "        <meta name=\"twitter:title\" property=\"og:title\" itemprop=\"name\" content=\"Stack Overflow - Where Developers Learn, Share, &amp; Build Careers\" />\r\n",
      "        <meta name=\"twitter:description\" property=\"og:description\" itemprop=\"description\" content=\"Stack Overflow | The World&#x2019;s Largest Online Community for Developers\" />\r\n",
      "\r\n",
      "        <script src=\"https://ajax.googleapis.com/ajax/libs/jquery/1.12.4/jquery.min.js\"></script>\r\n",
      "        <script src=\"https://cdn.sstatic.net/Js/stub.en.js?v=d0f0ef54ac95\"></script>\r\n",
      "    \r\n",
      "        <link rel=\"stylesheet\" type=\"text/css\" href=\"https://cdn.sstatic.net/Shared/stacks.css?v=f5e0a087a500\">\r\n",
      "        <link rel=\"stylesheet\" type=\"text/css\" href=\"https://cdn.sstatic.net/Sites/stackoverflow/primary.css?v=4dad7f41feda\">\r\n",
      "\r\n",
      "    \r\n",
      "    <link rel=\"stylesheet\" type=\"text/css\" href=\"https://cdn.sstatic.net/Shared/Product/product.css?v=e26bdc65a1f5\">\r\n",
      "    <script src=\"https://cdn.sstatic.net/Js/product-inview-animations.en.js?v=9bee9cc59d7c\"></script>\r\n",
      "    <script src=\"https://cdn.sstatic.net/Js/product-lazy-load-images.en.js?v=5f75ca13778c\"></script>\r\n",
      "\r\n",
      "    <link rel=\"alternate\" type=\"application/atom+xml\" title=\"Feed of recent questions\" href=\"/feeds\">\r\n",
      "\r\n",
      "    <style>\r\n",
      "        .p-wrapper-home {\r\n",
      "            max-width: 1950px;\r\n",
      "            margin-left: auto;\r\n",
      "            margin-right: auto;\r\n",
      "        }\r\n",
      "        .js-user-slider {\r\n",
      "            transition: width 0.2s, height 0.2s;\r\n",
      "        }\r\n",
      "        .js-user-slider span {\r\n",
      "            display: none;\r\n",
      "            opacity: 0;\r\n",
      "        }\r\n",
      "        .js-user-slider span:first-of-type {\r\n",
      "            display: block;\r\n",
      "            opacity: 1;\r\n",
      "        }\r\n",
      "        .js-user-slide-init {\r\n",
      "            transform: translate3d(0, -100%, 0);\r\n",
      "        }\r\n",
      "        .js-user-slider.js-loaded span {\r\n",
      "            display: block;\r\n",
      "            position: absolute;\r\n",
      "            top: 100%;\r\n",
      "            left: auto;\r\n",
      "            right: auto;\r\n",
      "        }\r\n",
      "        .js-user-slide-in {\r\n",
      "            animation: slideIn 1s forwards;\r\n",
      "        }\r\n",
      "        @keyframes slideIn {\r\n",
      "            0% {\r\n",
      "                opacity: 0;\r\n",
      "\t\t        transform: translate3d(0, -150%, 0);\r\n",
      "            }\r\n",
      "\r\n",
      "            100% {\r\n",
      "                opacity: 1;\r\n",
      "                transform: translate3d(0, -100%, 0);\r\n",
      "            }\r\n",
      "        }\r\n",
      "        .js-user-slide-out {\r\n",
      "            animation: slideOut 1s forwards;\r\n",
      "        }\r\n",
      "        @keyframes slideOut {\r\n",
      "            0% {\r\n",
      "                opacity: 1;\r\n",
      "\t\t        transform: translate3d(0, -100%, 0);\r\n",
      "            }\r\n",
      "\r\n",
      "            30% {\r\n",
      "                opacity: 0;\r\n",
      "            }\r\n",
      "\r\n",
      "            100% {\r\n",
      "                opacity: 0;\r\n",
      "                transform: translate3d(0, -50%, 0);\r\n",
      "            }\r\n",
      "        }\r\n",
      "        \r\n",
      "        .js-use-case p {\r\n",
      "            display: none;\r\n",
      "        }\r\n",
      "        .js-use-case.js-use-case--is-active p {\r\n",
      "            display: block;\r\n",
      "        }\r\n",
      "        .js-use-case.js-use-case--is-active h3 {\r\n",
      "            border-top-color: var(--black-500) !important;\r\n",
      "        }\r\n",
      "        .js-use-case.js-use-case--is-active svg {\r\n",
      "            color: var(--blue-500) !important;\r\n",
      "        }\r\n",
      "    </style>\r\n",
      "\r\n",
      "        \r\n",
      "        \r\n",
      "        \r\n",
      "        <link rel=\"stylesheet\" type=\"text/css\" href=\"https://cdn.sstatic.net/Shared/Channels/channels.css?v=2a09da57c2c9\">\r\n",
      "        \r\n",
      "        \r\n",