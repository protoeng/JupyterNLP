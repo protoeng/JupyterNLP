{
 "cells": [
  {
   "cell_type": "markdown",
   "metadata": {
    "id": "EdrARivWEEqD"
   },
   "source": [
    "# How to handle databases in python?\n",
    "\n",
    "Python DB-API is independent of any database engine, which enables you to write Python scripts to access any database engine. The Python DB API implementation for MySQL is MySQLdb. For PostgreSQL, it supports psycopg, PyGresQL and pyP