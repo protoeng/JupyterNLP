{
 "cells": [
  {
   "cell_type": "markdown",
   "metadata": {
    "id": "ygTKsigRgro4"
   },
   "source": [
    "# Strings\n",
    "*You can \"update\" an existing string by (re)assigning a variable to another string.*\n",
    "\n",
    "*Python does not support a character type; these are treated as strings of length one, thus also considered a substring.*"
   ]
  },
  {
   "cell_type": "markdown",
   "metadata": {
    "id": "u8izw15fhJJ0"
   },
   "source": [
    "## **Read more!** [Strings in python](https://www.tutorialspoint.com/python/pyth