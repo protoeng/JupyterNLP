{
 "cells": [
  {
   "cell_type": "markdown",
   "metadata": {
    "id": "ygTKsigRgro4"
   },
   "source": [
    "# Strings\n",
    "*You can \"update\" an existing string by (re)assigning a variable to another string.*\n",
    "\n",
    "*Python does not support a character type; these are treated as strings of length one, thus also considered a substring.*"
   ]
  },
  {
   "cell_type": "markdown",
   "metadata": {
    "id": "u8izw15fhJJ0"
   },
   "source": [
    "## **Read more!** [Strings in python](https://www.tutorialspoint.com/python/python_strings.htm)"
   ]
  },
  {
   "cell_type": "code",
   "execution_count": null,
   "metadata": {
    "colab": {
     "base_uri": "https://localhost:8080/"
    },
    "id": "djqrBQRShJV_",
    "outputId": "97069eb1-a7fe-4413-8a76-7f7acfac4f3f"
   },
   "outputs": [
    {
     "name": "stdout",
     "output_type": "stream",
     "text": [
      "My name is Zara and weight is 21 kg!\n"
     ]
    }
   ],
   "source": [
    "print(\"My name is %s and weight is %d kg!\" % ('Zara', 21))"
   ]
  },
  {
   "cell_type": "code",
   "execution_count": null,
   "metadata": {
    "colab": {
     "base_uri": "https://localhost:8080/"
    },
    "id": "Ckc4rtiihJeB",
    "outputId": "8bc10ed1-9106-47a6-9cee-59e0d9bd43bb"
   },
   "outputs": [
    {
     "name": "stdout",
     "output_type": "stream",
     "text": [
      "C:\\\\nowhere\n"
     ]
    }
   ],
   "source": [
    "print(r'C:\\\\nowhere')"
   ]
  },
  {
   "cell_type": "code",
   "execution_count": null,
   "metadata": {
    "id": "bGwb0dwViOOc"
   },
   "outputs": [],
   "source": [
    "# Normal strings in Python are stored internally as 8-bit ASCII,\n",
    "# while Unicode strings are stored as 16-bit Unicode.\n",
    "print(u'Hello, world!')"
   ]
  },
  {
   "cell_type": "code",
   "execution_count": null,
   "metadata": {
    "id": "g2hEXK_ViOfG"
   },
   "outputs": [],
   "source": [
    "st = \"hi this IS ME a 