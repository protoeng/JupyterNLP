{
 "cells": [
  {
   "cell_type": "markdown",
   "metadata": {
    "id": "ygTKsigRgro4"
   },
   "source": [
    "# Strings\n",
    "*You can \"update\" an existing string by (re)assigning a variable to another string.*\n",
    "\n",
    "*Python does not support a character type; these are treated as strings of length one, thus also considered a substring.*"
   ]
  },
  {
   "cell_type": "markdown",
   "metadata": {
    "id": "u8izw15fhJJ0"
   },
   "source": [
    "## **Read more!** [Strings in python](https://www.tutorialspoint.com/python/python_strings.htm)"
   ]
  },
  {
   "cell_type": "code",
   "execution_count": null,
   "metadata": {
    "colab": {
     "base_uri": "https://localhost:8080/"
    },
    "id": "djqrBQRShJV_",
    "outputId": "97069eb1-a7fe-4413-8a76-7f7acfac4f3f"
   },
   "outputs": [
    {
     "name": "stdout",
     "output_type": "stream",
     "text": [
      "My name is Zara and weight is 21 kg!\n"
     ]
    }
   ],
   "source": [
    "print(\"My name is %s and weight is %d kg!\" % ('Zara', 21))"
   ]
  },
  {
   "cell_type": "code",
   "execution_count": null,
   "metadata": {
    "colab": {
     "base_uri": "https://localhost:8080/"
    },
    "id": "Ckc4rtiihJeB",
    "outputId": "8bc10ed1-9106-47a6-9cee-59e0d9bd43bb"
   },
   "outputs": [
    {
     "name": "stdout",
     "output_type": "stream",
     "text": [
      "C:\\\\nowhere\n"
     ]
    }
   ],
   "source": [
    "print(r'C:\\\\nowhere')"
   ]
  },
  {
   "cell_type": "code",
   "execution_count": null,
   "metadata": {
    "id": "bGwb0dwViOOc"
   },
   "outputs": [],
   "source": [
    "# Normal strings in Python are stored internally as 8-bit ASCII,\n",
    "# while Unicode strings are stored as 16-bit Unicode.\n",
    "print(u'Hello, world!')"
   ]
  },
  {
   "cell_type": "code",
   "execution_count": null,
   "metadata": {
    "id": "g2hEXK_ViOfG"
   },
   "outputs": [],
   "source": [
    "st = \"hi this IS ME a strING with MulTI % characters and #s so let's start\""
   ]
  },
  {
   "cell_type": "code",
   "execution_count": null,
   "metadata": {
    "colab": {
     "base_uri": "https://localhost:8080/",
     "height": 35
    },
    "id": "z26xXsS6hJjd",
    "outputId": "7876a509-7061-4740-aa18-46b55cd1ca2b"
   },
   "outputs": [
    {
     "data": {
      "application/vnd.google.colaboratory.intrinsic+json": {
       "type": "string"
      },
      "text/plain": [
       "\"Hi this is me a string with multi % characters and #s so let's start\""
      ]
     },
     "execution_count": 79,
     "metadata": {
      "tags": []
     },
     "output_type": "execute_result"
    }
   ],
   "source": [
    "# Capitalizes first letter of string\n",
    "st.capitalize()"
   ]
  },
  {
   "cell_type": "code",
   "execution_count": null,
   "metadata": {
    "colab": {
     "base_uri": "https://localhost:8080/",
     "height": 35
    },
    "id": "WbyImQS2jX0m",
    "outputId": "3e0408d2-873e-4adc-cc72-ecfd7cef4412"
   },
   "outputs": [
    {
     "data": {
      "application/vnd.google.colaboratory.intrinsic+json": {
       "type": "string"
      },
      "text/plain": [
       "'..................wow!..................'"
      ]
     },
     "execution_count": 82,
     "metadata": {
      "tags": []
     },
     "output_type": "execute_result"
    }
   ],
   "source": [
    "st = 'wow!'\n",
    "# returns centered in a string of (length width). \n",
    "# Padding is done using the specified (fillchar).  Default filler is a space.\n",
    "st.center(40, '.')"
   ]
  },
  {
   "cell_type": "code",
   "execution_count": null,
   "metadata": {
    "colab": {
     "base_uri": "https://localhost:8080/",
     "height": 35
    },
    "id": "uKcTfqG7sYdu",
    "outputId": "276d6918-7254-42c7-9cfb-52d06c677ac7"
   },
   "outputs": [
    {
     "data": {
      "application/vnd.google.colaboratory.intrinsic+json": {
       "type": "string"
      },
      "text/plain": [
       "'this is string example....wow!!!000000000000000000'"
      ]
     },
     "execution_count": 136,
     "metadata": {
      "tags": []
     },
     "output_type": "execute_result"
    }
   ],
   "source": [
    "# Returns a space-padded string with the original string left-justified to a total of width columns.\n",
    "str = \"this is string example....wow!!!\"\n",
    "str.ljust(50, '0')"
   ]
  },
  {
   "cell_type": "code",
   "execution_count": null,
   "metadata": {
    "colab": {
     "base_uri": "https://localhost:8080/",
     "height": 35
    },
    "id": "JWqERPPbviZs",
    "outputId": "12e773fc-4462-4fe8-fd12-5d63d8200425"
   },
   "outputs": [
    {
     "data": {
      "application/vnd.google.colaboratory.intrinsic+json": {
       "type": "string"
      },
      "text/plain": [
       "'000000000000000000this is string example....wow!!!'"
      ]
     },
     "execution_count": 151,
     "metadata": {
      "tags": []
     },
     "output_type": "execute_result"
    }
   ],
   "source": [
    "# Returns a space-padded string with the original string right-justified to a total of width columns.\n",
    "str = \"this is string example....wow!!!\"\n",
    "str.rjust(50, '0')"
   ]
  },
  {
   "cell_type": "code",
   "execution_count": null,
   "metadata": {
    "colab": {
     "base_uri": "https://localhost:8080/",
     "height": 35
    },
    "id": "0QTyJqvlyetZ",
    "outputId": "4c8c1450-d86a-417c-9b04-df5996470a69"
   },
   "outputs": [
    {
     "data": {
      "application/vnd.google.colaboratory.intrinsic+json": {
       "type": "string"
      },
      "text/plain": [
       "'00000000this is string example....wow!!!'"
      ]
     },
     "execution_count": 163,
     "metadata": {
      "tags": []
     },
     "output_type": "execute_result"
    }
   ],
   "source": [
    "#  zfill() pads string on the left with zeros to fill width.\n",
    "\"this is string example....wow!!!\".zfill(40)"
   ]
  },
  {
   "cell_type": "code",
   "execution_count": null,
   "metadata": {
    "colab": {
     "base_uri": "https://localhost:8080/"
    },
    "id": "43SBUW6Jka4H",
    "outputId": "bc7089b0-8308-4492-8b95-d6b7cc02e7f7"
   },
   "outputs": [
    {
     "data": {
      "text/plain": [
       "2"
      ]
     },
     "execution_count": 84,
     "metadata": {
      "tags": []
     },
     "output_type": "execute_result"
    }
   ],
   "source": [
    "st.count('w')"
   ]
  },
  {
   "cell_type": "code",
   "execution_count": null,
   "metadata": {
    "colab": {
     "base_uri": "https://localhost:8080/"
    },
    "id": "oixGK_RMkfXW",
    "outputId": "5d860bbe-3426-479f-acb4-897f8c0dd182"
   },
   "outputs": [
    {
     "name": "stdout",
     "output_type": "stream",
     "text": [
      "Encoded String: b'this is string example \\x83\\x8f\\x83I \\x83\\x8f\\x83I ....wow!!!'\n",
      "Decoded String: this is string example ワオ ワオ ....wow!!!\n"
     ]
    }
   ],
   "source": [
    "Str = \"this is string example ワオ ワオ ....wow!!!\";\n",
    "Str = Str.encode('shift_jis_2004','strict')\n",
    "\n",
    "print (\"Encoded String: \" + str(Str))\n",
    "print (\"Decoded String: \" + Str.decode('shift_jis_2004','strict'))"
   ]
  },
  {
   "cell_type": "code",
   "execution_count": null,
   "metadata": {
    "colab": {
     "base_uri": "https://localhost:8080/"
    },
    "id": "ylBkNEwCmTAx",
    "outputId": "5bb3a0a6-509b-4805-a534-1cdec74594e8"
   },
   "outputs": [
    {
     "data": {
      "text/plain": [
       "True"
      ]
     },
     "execution_count": 99,
     "metadata": {
      "tags": []
     },
     "output_type": "execute_result"
    }
   ],
   "source": [
    "st.endswith('!')"
   ]
  },
  {
   "cell_type": "code",
   "execution_count": null,
   "metadata": {
    "colab": {
     "base_uri": "https://localhost:8080/"
    },
    "id": "RcnKkDeDmc6c",
    "outputId": "d3833198-45ee-49a5-a51f-369b4f2d7d1f"
   },
   "outputs": [
    {
     "data": {
      "text/plain": [
       "False"
      ]
     },
     "execution_count": 100,
     "metadata": {
      "tags": []
     },
     "output_type": "execute_result"
    }
   ],
   "source": [
    "st.endswith('W')"
   ]
  },
  {
   "cell_type": "code",
   "execution_count": null,
   "metadata": {
    "colab": {
     "base_uri": "https://localhost:8080/"
    },
    "id": "7AXHlYKtwquz",
    "outputId": "ab6861ef-9a58-411e-cf63-d644f5104b15"
   },
   "outputs": [
    {
     "data": {
      "text/plain": [
       "True"
      ]
     },
     "execution_count": 156,
     "metadata": {
      "tags": []
     },
     "output_type": "execute_result"
    }
   ],
   "source": [
    "\"free your mind\".startswith('f')"
   ]
  },
  {
   "cell_type": "code",
   "execution_count": null,
   "metadata": {
    "colab": {
     "base_uri": "https://localhost:8080/",
     "height": 71
    },
    "id": "G_xNe08Gmr7O",
    "outputId": "30df855e-3251-403c-8dfe-f4a06f595874"
   },
   "outputs": [
    {
     "data": {
      "application/vnd.google.colaboratory.intrinsic+json": {
       "type": "string"
      },
      "text/plain": [
       "'Original string: this is\\tstring example....wow!!!'"
      ]
     },
     "metadata": {
      "tags": []
     },
     "output_type": "display_data"
    },
    {
     "data": {
      "application/vnd.google.colaboratory.intrinsic+json": {
       "type": "string"
      },
      "text/plain": [
       "'Defualt exapanded tab: this is string example....wow!!!'"
      ]
     },
     "metadata": {
      "tags": []
     },
     "output_type": "display_data"
    },
    {
     "data": {
      "application/vnd.google.colaboratory.intrinsic+json": {
       "type": "string"
      },
      "text/plain": [
       "'Double exapanded tab: this is         string example....wow!!!'"
      ]
     },
     "metadata": {
      "tags": []
     },
     "output_type": "display_data"
    }
   ],
   "source": [
    "# returns a copy of the string in which tab characters ie. '\\t' are expanded using spaces, optionally using the given tabsize (default 8)\n",
    "str = \"this is\\tstring example....wow!!!\";\n",
    "\n",
    "display(\"Original string: \" + str)\n",
    "display(\"Defualt exapanded tab: \" +  str.expandtabs())\n",
    "display(\"Double exapanded tab: \" +  str.expandtabs(16))"
   ]
  },
  {
   "cell_type": "code",
   "execution_count": null,
   "metadata": {
    "colab": {
     "base_uri": "https://localhost:8080/"
    },
    "id": "MIfHJtN-nKyp",
    "outputId": "a489b0a6-e6e0-40ec-96b0-4724e731e26e"
   },
   "outputs": [
    {
     "data": {
      "text/plain": [
       "15"
      ]
     },
     "execution_count": 103,
     "metadata": {
      "tags": []
     },
     "output_type": "execute_result"
    }
   ],
   "source": [
    "# Determine if str occurs in string or in a substring of string if starting index beg \n",
    "# and ending index end are given returns index if found and -1 otherwise.\n",
    "str.find('ex')"
   ]
  },
  {
   "cell_type": "code",
   "execution_count": null,
   "metadata": {
    "colab": {
     "base_uri": "https://localhost:8080/"
    },
    "id": "8TtfYai-nUPZ",
    "outputId": "8d0b52d5-fce4-4392-d3d0-ea9fc1a2f775"
   },
   "outputs": [
    {
     "data": {
      "text/plain": [
       "-1"
      ]
     },
     "execution_count": 105,
     "metadata": {
      "tags": []
     },
     "output_type": "execute_result"
    }
   ],
   "source": [
    "str.find('hghg')"
   ]
  },
  {
   "cell_type": "code",
   "execution_count": null,
   "metadata": {
    "colab": {
     "base_uri": "https://localhost:8080/"
    },
    "id": "ck8YPxhmuq0N",
    "outputId": "ce062e02-b67a-4ddb-ea81-a89f701f8e61"
   },
   "outputs": [
    {
     "data": {
      "text/plain": [
       "48"
      ]
     },
     "execution_count": 149,
     "metadata": {
      "tags": []
     },
     "output_type": "execute_result"
    }
   ],
   "source": [
    "#  returns the last index where the substring str is found \n",
    "#  find() but backwards\n",
    "\"a this is really a string example....wow!!! ha ha\".rfind('a')"
   ]
  },
  {
   "cell_type": "code",
   "execution_count": null,
   "metadata": {
    "colab": {
     "base_uri": "https://localhost:8080/"
    },
    "id": "oQbNY9hSnbSb",
    "outputId": "ca6838fe-c710-4bf9-ddd0-77bb23bc9d21"
   },
   "outputs": [
    {
     "data": {
      "text/plain": [
       "15"
      ]
     },
     "execution_count": 106,
     "metadata": {
      "tags": []
     },
     "output_type": "execute_result"
    }
   ],
   "source": [
    "# Same as find(), but raises an exception if str not found.\n",
    "str.index('ex')"
   ]
  },
  {
   "cell_type": "code",
   "execution_count": null,
   "metadata": {
    "colab": {
     "base_uri": "https://localhost:8080/",
     "height": 163
    },
    "id": "l6qKDVGonbf4",
    "outputId": "dd270daa-4a1d-4638-a40f-4cc37d623629"
   },
   "outputs": [
    {
     "ename": "ValueError",
     "evalue": "ignored",
     "output_type": "error",
     "traceback": [
      "\u001b[0;31m---------------------------------------------------------------------------\u001b[0m",
      "\u001b[0;31mValueError\u001b[0m                                Traceback (most recent call last)",
      "\u001b[0;32m<ipython-input-107-eb00960507be>\u001b[0m in \u001b[0;36m<module>\u001b[0;34m()\u001b[0m\n\u001b[0;32m----> 1\u001b[0;31m \u001b[0mstr\u001b[0m\u001b[0;34m.\u001b[0m\u001b[0mindex\u001b[0m\u001b[0;34m(\u001b[0m\u001b[0;34m'hghg'\u001b[0m\u001b[0;34m)\u001b[0m\u001b[0;34m\u001b[0m\u001b[0;34m\u001b[0m\u001b[0m\n\u001b[0m",
      "\u001b[0;31mValueError\u001b[0m: substring not found"
     ]
    }
   ],
   "source": [
    "str.index('hghg')"
   ]
  },
  {
   "cell_type": "code",
   "execution_count": null,
   "metadata": {
    "colab": {
     "base_uri": "https://localhost:8080/"
    },
    "id": "hHjOjwk2vTrb",
    "outputId": "f8964089-585a-42b0-a61b-8ff7d3581ae3"
   },
   "outputs": [
    {
     "data": {
      "text/plain": [
       "5"
      ]
     },
     "execution_count": 150,
     "metadata": {
      "tags": []
     },
     "output_type": "execute_result"
    }
   ],
   "source": [
    "\"hi this me\".rindex('i')"
   ]
  },
  {
   "cell_type": "code",
   "execution_count": null,
   "metadata": {
    "colab": {
     "base_uri": "https://localhost:8080/"
    },
    "id": "JStbPvJDnbs3",
    "outputId": "f1b51db9-0d02-42bc-ea4a-3ce52405c3c5"
   },
   "outputs": [
    {
     "data": {
      "text/plain": [
       "True"
      ]
     },
     "execution_count": 111,
     "metadata": {
      "tags": []
     },
     "output_type": "execute_result"
    }
   ],
   "source": [
    "# checks whether the string consists of alphanumeric characters.\n",
    "\"this2009\".isalnum()"
   ]
  },
  {
   "cell_type": "code",
   "execution_count": null,
   "metadata": {
    "colab": {
     "base_uri": "https://localhost:8080/"
    },
    "id": "wXHAVo2VnbwP",
    "outputId": "7f2fdce2-c625-4bcc-d7ba-277e5c494e69"
   },
   "outputs": [
    {
     "data": {
      "text/plain": [
       "False"
      ]
     },
     "execution_count": 113,
     "metadata": {
      "tags": []
     },
     "output_type": "execute_result"
    }
   ],
   "source": [
    "\"  this with space \".isalnum()"
   ]
  },
  {
   "cell_type": "code",
   "execution_count": null,
   "metadata": {
    "colab": {
     "base_uri": "https://localhost:8080/"
    },
    "id": "a-dn8KBjnb2r",
    "outputId": "329aa971-47bc-462e-c4c8-ce57c9fb9c21"
   },
   "outputs": [
    {
     "data": {
      "text/plain": [
       "True"
      ]
     },
     "execution_count": 117,
     "metadata": {
      "tags": []
     },
     "output_type": "execute_result"
    }
   ],
   "source": [
    "# Returns true if string has at least 1 character and\n",
    "# all characters are alphabetic and false otherwise.\n",
    "\"dfsdfd\".isalpha()"
   ]
  },
  {
   "cell_type": "code",
   "execution_count": null,
   "metadata": {
    "colab": {
     "base_uri": "https://localhost:8080/"
    },
    "id": "8cf8-jA_nb9F",
    "outputId": "80cc889c-8408-449d-d3b4-cd2945d1422a"
   },
   "outputs": [
    {
     "data": {
      "text/plain": [
       "False"
      ]
     },
     "execution_count": 118,
     "metadata": {
      "tags": []
     },
     "output_type": "execute_result"
    }
   ],
   "source": [
    "\"dsfdsf5\".isalpha()"
   ]
  },
  {
   "cell_type": "code",
   "execution_count": null,
   "metadata": {
    "colab": {
     "base_uri": "https://localhost:8080/"
    },
    "id": "8JL7WhXQncBo",
    "outputId": "908b601a-fdac-4167-d29f-2ccdc805cd67"
   },
   "outputs": [
    {
     "data": {
      "text/plain": [
       "True"
      ]
     },
     "execution_count": 119,
     "metadata": {
      "tags": []
     },
     "output_type": "execute_result"
    }
   ],
   "source": [
    "# Returns true if string contains only digits and false otherwise.\n",
    "\"254364535\".isdigit()"
   ]
  },
  {
   "cell_type": "code",
   "execution_count": null,
   "metadata": {
    "colab": {
     "base_uri": "https://localhost:8080/"
    },
    "id": "8tJ1wJAKncHM",
    "outputId": "914cd7de-cd4f-41a5-c424-c171fea9262d"
   },
   "outputs": [
    {
     "data": {
      "text/plain": [
       "False"
      ]
     },
     "execution_count": 121,
     "metadata": {
      "tags": []
     },
     "output_type": "execute_result"
    }
   ],
   "source": [
    "\"f1\".isdigit()"
   ]
  },
  {
   "cell_type": "code",
   "execution_count": null,
   "metadata": {
    "colab": {
     "base_uri": "https://localhost:8080/"
    },
    "id": "QGJ239g2y8tD",
    "outputId": "3eef1ec0-4575-430c-80d6-7517e77e8396"
   },
   "outputs": [
    {
     "data": {
      "text/plain": [
       "False"
      ]
     },
     "execution_count": 164,
     "metadata": {
      "tags": []
     },
     "output_type": "execute_result"
    }
   ],
   "source": [
    "'''checks whether the string consists of only decimal characters. This method are present only on unicode objects.\n",
    "\n",
    "Note − To define a string as Unicode, one simply prefixes a 'u' to the opening quotation mark of the assignment. Below is the example.\n",
    "'''\n",
    "str = u\"this2009\"\n",
    "str.isdecimal()"
   ]
  },
  {
   "cell_type": "code",
   "execution_count": null,
   "metadata": {
    "colab": {
     "base_uri": "https://localhost:8080/"
    },
    "id": "jPV-i0N4zGgl",
    "outputId": "553a2bc8-7dab-48dc-dab1-afdd2971a644"
   },
   "outputs": [
    {
     "data": {
      "text/plain": [
       "True"
      ]
     },
     "execution_count": 165,
     "metadata": {
      "tags": []
     },
     "output_type": "execute_result"
    }
   ],
   "source": [
    "str = u\"23443434\"\n",
    "str.isdecimal()"
   ]
  },
  {
   "cell_type": "code",
   "execution_count": null,
   "metadata": {
    "colab": {
     "base_uri": "https://localhost:8080/"
    },
    "id": "GMwqj6zQqtU5",
    "outputId": "1805f6aa-5c98-4359-d236-d10482527b9c"
   },
   "outputs": [
    {
     "data": {
      "text/plain": [
       "True"
      ]
     },
     "execution_count": 123,
     "metadata": {
      "tags": []
     },
     "output_type": "execute_result"
    }
   ],
   "source": [
    "\"dgdfgfd\".islower()"
   ]
  },
  {
   "cell_type": "code",
   "execution_count": null,
   "metadata": {
    "colab": {
     "base_uri": "https://localhost:8080/"
    },
    "id": "vaDWG63OqwBd",
    "outputId": "4ccd5bc5-1f4a-438f-f7c7-b2b4c9de2923"
   },
   "outputs": [
    {
     "data": {
      "text/plain": [
       "False"
      ]
     },
     "execution_count": 126,
     "metadata": {
      "tags": []
     },
     "output_type": "execute_result"
    }
   ],
   "source": [
    "\"Gjhfgh\".islower()"
   ]
  },
  {
   "cell_type": "code",
   "execution_count": null,
   "metadata": {
    "colab": {
     "base_uri": "https://localhost:8080/"
    },
    "id": "eExQzQtSq2bO",
    "outputId": "f39a64eb-a164-4e42-eee0-bb5aea4ef35c"
   },
   "outputs": [
    {
     "data": {
      "text/plain": [
       "False"
      ]
     },
     "execution_count": 128,
     "metadata": {
      "tags": []
     },
     "output_type": "execute_result"
    }
   ],
   "source": [
    "\"fdgfdgH\".isupper()"
   ]
  },
  {
   "cell_type": "code",
   "execution_count": null,
   "metadata": {
    "colab": {
     "base_uri": "https://localhost:8080/"
    },
 